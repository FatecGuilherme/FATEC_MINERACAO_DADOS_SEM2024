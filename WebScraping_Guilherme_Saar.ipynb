{
  "nbformat": 4,
  "nbformat_minor": 0,
  "metadata": {
    "colab": {
      "provenance": [],
      "include_colab_link": true
    },
    "kernelspec": {
      "name": "python3",
      "display_name": "Python 3"
    },
    "language_info": {
      "name": "python"
    }
  },
  "cells": [
    {
      "cell_type": "markdown",
      "metadata": {
        "id": "view-in-github",
        "colab_type": "text"
      },
      "source": [
        "<a href=\"https://colab.research.google.com/github/FatecGuilherme/FATEC_MINERACAO_DADOS_SEM2024/blob/main/WebScraping_Guilherme_Saar.ipynb\" target=\"_parent\"><img src=\"https://colab.research.google.com/assets/colab-badge.svg\" alt=\"Open In Colab\"/></a>"
      ]
    },
    {
      "cell_type": "markdown",
      "source": [
        "# `Importanção das Bibliotecas`"
      ],
      "metadata": {
        "id": "R2n9KTPe45IG"
      }
    },
    {
      "cell_type": "code",
      "execution_count": 1,
      "metadata": {
        "colab": {
          "base_uri": "https://localhost:8080/"
        },
        "id": "SNl2KL5v_dUI",
        "outputId": "de046124-43db-470d-fa69-a987f3a6f092"
      },
      "outputs": [
        {
          "output_type": "stream",
          "name": "stdout",
          "text": [
            "Requirement already satisfied: requests in /usr/local/lib/python3.10/dist-packages (2.32.3)\n",
            "Requirement already satisfied: charset-normalizer<4,>=2 in /usr/local/lib/python3.10/dist-packages (from requests) (3.4.0)\n",
            "Requirement already satisfied: idna<4,>=2.5 in /usr/local/lib/python3.10/dist-packages (from requests) (3.10)\n",
            "Requirement already satisfied: urllib3<3,>=1.21.1 in /usr/local/lib/python3.10/dist-packages (from requests) (2.2.3)\n",
            "Requirement already satisfied: certifi>=2017.4.17 in /usr/local/lib/python3.10/dist-packages (from requests) (2024.8.30)\n",
            "Requirement already satisfied: beautifulsoup4 in /usr/local/lib/python3.10/dist-packages (4.12.3)\n",
            "Requirement already satisfied: soupsieve>1.2 in /usr/local/lib/python3.10/dist-packages (from beautifulsoup4) (2.6)\n"
          ]
        }
      ],
      "source": [
        "!pip install requests\n",
        "!pip install beautifulsoup4"
      ]
    },
    {
      "cell_type": "markdown",
      "source": [
        "# Importando a biblioteca de requests\n",
        "\n",
        "\n",
        "\n"
      ],
      "metadata": {
        "id": "9VptxvuV5K1K"
      }
    },
    {
      "cell_type": "code",
      "source": [
        "import requests\n",
        "from bs4 import BeautifulSoup"
      ],
      "metadata": {
        "id": "qEk1RNGP_5md"
      },
      "execution_count": 2,
      "outputs": []
    },
    {
      "cell_type": "markdown",
      "source": [
        "# Ajustandos as variaveis para o request Headers e URL"
      ],
      "metadata": {
        "id": "6okJyUwy5Lt7"
      }
    },
    {
      "cell_type": "code",
      "source": [
        "url = 'https://profandersonvanin.github.io/fatec_teste/'\n",
        "headers = {\"User-agent\":\"Mozilla/5.0 (Linux; Android 6.0; Nexus 5 Build/MRA58N) AppleWebKit/537.36 (KHTML, like Gecko) Chrome/130.0.0.0 Mobile Safari/537.36\"}"
      ],
      "metadata": {
        "id": "VvnvYCNJH_5S"
      },
      "execution_count": 3,
      "outputs": []
    },
    {
      "cell_type": "markdown",
      "source": [
        "# Fazendo o request e guardando em uma variavel"
      ],
      "metadata": {
        "id": "SJSSyd1q5dUr"
      }
    },
    {
      "cell_type": "code",
      "source": [
        "response = requests.get(url,headers=headers)"
      ],
      "metadata": {
        "id": "04i5rOeb_8rF"
      },
      "execution_count": 4,
      "outputs": []
    },
    {
      "cell_type": "markdown",
      "source": [
        "# Exibindo o Response (Status, body, etc...)"
      ],
      "metadata": {
        "id": "OPVCQxtxIsTY"
      }
    },
    {
      "cell_type": "code",
      "source": [
        "response"
      ],
      "metadata": {
        "colab": {
          "base_uri": "https://localhost:8080/"
        },
        "id": "47wUu04OAHOO",
        "outputId": "963a76b7-eb7a-403e-ce50-1fb65cd9f745"
      },
      "execution_count": 5,
      "outputs": [
        {
          "output_type": "execute_result",
          "data": {
            "text/plain": [
              "<Response [200]>"
            ]
          },
          "metadata": {},
          "execution_count": 5
        }
      ]
    },
    {
      "cell_type": "markdown",
      "source": [
        "#  Exibindo o \"body\" do response."
      ],
      "metadata": {
        "id": "2IkrmvF66NNN"
      }
    },
    {
      "cell_type": "code",
      "source": [
        "response.text"
      ],
      "metadata": {
        "colab": {
          "base_uri": "https://localhost:8080/",
          "height": 70
        },
        "id": "nz8LdcklAsZc",
        "outputId": "f308161d-a901-4558-f2bb-42678a314e7a"
      },
      "execution_count": 6,
      "outputs": [
        {
          "output_type": "execute_result",
          "data": {
            "text/plain": [
              "'<!DOCTYPE html>\\r\\n<html lang=\"pt-BR\">\\r\\n<head>\\r\\n    <meta charset=\"UTF-8\">\\r\\n    <meta name=\"viewport\" content=\"width=device-width, initial-scale=1.0\">\\r\\n    <title>Loja de Exemplo</title>\\r\\n</head>\\r\\n<body>\\r\\n    <h1>Produtos Disponíveis</h1>\\r\\n    <div class=\"produto\">\\r\\n        <h2>Produto 1</h2>\\r\\n        <p>Preço: R$20,00</p>\\r\\n        <p>Descrição: Um produto de alta qualidade.</p>\\r\\n    </div>\\r\\n    <div class=\"produto\">\\r\\n        <h2>Produto 2</h2>\\r\\n        <p>Preço: R$45,00</p>\\r\\n        <p>Descrição: Perfeito para o uso diário.</p>\\r\\n    </div>\\r\\n</body>\\r\\n</html>'"
            ],
            "application/vnd.google.colaboratory.intrinsic+json": {
              "type": "string"
            }
          },
          "metadata": {},
          "execution_count": 6
        }
      ]
    },
    {
      "cell_type": "markdown",
      "source": [
        "# Converte Retorno em HTML"
      ],
      "metadata": {
        "id": "V_zUN5lk6VsZ"
      }
    },
    {
      "cell_type": "code",
      "source": [
        "bonito = BeautifulSoup(response.text, 'html.parser')"
      ],
      "metadata": {
        "id": "4t_Xv3BuBIup"
      },
      "execution_count": 7,
      "outputs": []
    },
    {
      "cell_type": "markdown",
      "source": [
        "# Mostrando o HTML convertido.\n",
        "\n",
        "Obs.: Hoje ele segue todos os mandamentos. rsrs"
      ],
      "metadata": {
        "id": "gsnxYhvy6pCe"
      }
    },
    {
      "cell_type": "code",
      "source": [
        "print(bonito.prettify())"
      ],
      "metadata": {
        "colab": {
          "base_uri": "https://localhost:8080/"
        },
        "id": "5C7pTYtnBRSp",
        "outputId": "8bbed864-28c1-4404-eeae-7bddf15ca74e"
      },
      "execution_count": 8,
      "outputs": [
        {
          "output_type": "stream",
          "name": "stdout",
          "text": [
            "<!DOCTYPE html>\n",
            "<html lang=\"pt-BR\">\n",
            " <head>\n",
            "  <meta charset=\"utf-8\"/>\n",
            "  <meta content=\"width=device-width, initial-scale=1.0\" name=\"viewport\"/>\n",
            "  <title>\n",
            "   Loja de Exemplo\n",
            "  </title>\n",
            " </head>\n",
            " <body>\n",
            "  <h1>\n",
            "   Produtos Disponíveis\n",
            "  </h1>\n",
            "  <div class=\"produto\">\n",
            "   <h2>\n",
            "    Produto 1\n",
            "   </h2>\n",
            "   <p>\n",
            "    Preço: R$20,00\n",
            "   </p>\n",
            "   <p>\n",
            "    Descrição: Um produto de alta qualidade.\n",
            "   </p>\n",
            "  </div>\n",
            "  <div class=\"produto\">\n",
            "   <h2>\n",
            "    Produto 2\n",
            "   </h2>\n",
            "   <p>\n",
            "    Preço: R$45,00\n",
            "   </p>\n",
            "   <p>\n",
            "    Descrição: Perfeito para o uso diário.\n",
            "   </p>\n",
            "  </div>\n",
            " </body>\n",
            "</html>\n",
            "\n"
          ]
        }
      ]
    },
    {
      "cell_type": "markdown",
      "source": [
        "# Pegando os produtos no site\n",
        "\n",
        "Basicamente ele analisa na estrutura do site, onde tem div com a class \"produto\", e monta uma matriz com esses dados.\n",
        "\n",
        "E depois mostra o primeiro item dessa lista"
      ],
      "metadata": {
        "id": "WXcRWc6x7AIg"
      }
    },
    {
      "cell_type": "code",
      "source": [
        "produtos = bonito.find_all('div', class_='produto')\n",
        "produtos[0]"
      ],
      "metadata": {
        "colab": {
          "base_uri": "https://localhost:8080/"
        },
        "id": "VFD6lMCgCLT6",
        "outputId": "61ae65e8-97ec-46d7-c39f-b3657061d5f5"
      },
      "execution_count": 9,
      "outputs": [
        {
          "output_type": "execute_result",
          "data": {
            "text/plain": [
              "<div class=\"produto\">\n",
              "<h2>Produto 1</h2>\n",
              "<p>Preço: R$20,00</p>\n",
              "<p>Descrição: Um produto de alta qualidade.</p>\n",
              "</div>"
            ]
          },
          "metadata": {},
          "execution_count": 9
        }
      ]
    },
    {
      "cell_type": "markdown",
      "source": [
        "**Pegando o nome do produto**\n",
        "\n",
        "Basicamente, ele pega o elemento html que tem essa informação, nesse caso o H2"
      ],
      "metadata": {
        "id": "Z4Blo_db7Z4R"
      }
    },
    {
      "cell_type": "code",
      "source": [
        "nome_produto = produtos[0].find('h2').text\n",
        "print(\"Produto Nome = \",nome_produto)"
      ],
      "metadata": {
        "colab": {
          "base_uri": "https://localhost:8080/"
        },
        "id": "w1JN4oIdDxfK",
        "outputId": "25f01c78-ca8a-4a28-b95f-c347c24acfce"
      },
      "execution_count": 10,
      "outputs": [
        {
          "output_type": "stream",
          "name": "stdout",
          "text": [
            "Produto Nome =  Produto 1\n"
          ]
        }
      ]
    },
    {
      "cell_type": "markdown",
      "source": [
        "**Pegando o preço do produto**\n",
        "\n",
        "Basicamente, ele pega o elemento html que tem essa informação, nesse caso o primeiro \"p\""
      ],
      "metadata": {
        "id": "OWUxga2k7jlL"
      }
    },
    {
      "cell_type": "code",
      "source": [
        "preco_produto = produtos[0].find_all('p')[0].text\n",
        "preco_produto"
      ],
      "metadata": {
        "colab": {
          "base_uri": "https://localhost:8080/",
          "height": 35
        },
        "id": "jI_S0SJCEai-",
        "outputId": "5248f1b9-c1d3-4ef7-dcdb-355573b88139"
      },
      "execution_count": 11,
      "outputs": [
        {
          "output_type": "execute_result",
          "data": {
            "text/plain": [
              "'Preço: R$20,00'"
            ],
            "application/vnd.google.colaboratory.intrinsic+json": {
              "type": "string"
            }
          },
          "metadata": {},
          "execution_count": 11
        }
      ]
    },
    {
      "cell_type": "markdown",
      "source": [
        "**Pegando a descrição do produto**\n",
        "\n",
        "Basicamente, ele pega o elemento html que tem essa informação, nesse caso o segundo \"p\""
      ],
      "metadata": {
        "id": "Wgi5IIYj7r1e"
      }
    },
    {
      "cell_type": "code",
      "source": [
        "desc_produto = produtos[0].find_all('p')[1].text\n",
        "desc_produto"
      ],
      "metadata": {
        "colab": {
          "base_uri": "https://localhost:8080/",
          "height": 35
        },
        "id": "409n2cSrFMx9",
        "outputId": "06abe182-830d-4620-bbb0-9d7d752449a7"
      },
      "execution_count": 12,
      "outputs": [
        {
          "output_type": "execute_result",
          "data": {
            "text/plain": [
              "'Descrição: Um produto de alta qualidade.'"
            ],
            "application/vnd.google.colaboratory.intrinsic+json": {
              "type": "string"
            }
          },
          "metadata": {},
          "execution_count": 12
        }
      ]
    },
    {
      "cell_type": "markdown",
      "source": [
        "# Pega novamente os produtos"
      ],
      "metadata": {
        "id": "P4Lv8YC-76Pa"
      }
    },
    {
      "cell_type": "code",
      "source": [
        "produtos = bonito.find_all('div', class_='produto')"
      ],
      "metadata": {
        "id": "mtbhUUwGGX82"
      },
      "execution_count": 17,
      "outputs": []
    },
    {
      "cell_type": "markdown",
      "source": [
        "# Mostra eles"
      ],
      "metadata": {
        "id": "uj0kvW1W78HG"
      }
    },
    {
      "cell_type": "code",
      "source": [
        "produtos"
      ],
      "metadata": {
        "colab": {
          "base_uri": "https://localhost:8080/"
        },
        "id": "efN5xo56Gayk",
        "outputId": "02d231d4-b2fb-4f06-92fb-9fa19cf04fb4"
      },
      "execution_count": 18,
      "outputs": [
        {
          "output_type": "execute_result",
          "data": {
            "text/plain": [
              "[<div class=\"produto\">\n",
              " <h2>Produto 1</h2>\n",
              " <p>Preço: R$20,00</p>\n",
              " <p>Descrição: Um produto de alta qualidade.</p>\n",
              " </div>,\n",
              " <div class=\"produto\">\n",
              " <h2>Produto 2</h2>\n",
              " <p>Preço: R$45,00</p>\n",
              " <p>Descrição: Perfeito para o uso diário.</p>\n",
              " </div>]"
            ]
          },
          "metadata": {},
          "execution_count": 18
        }
      ]
    },
    {
      "cell_type": "markdown",
      "source": [
        "# Logica onde é extraido os produtos, se a requisição for bem sucedida, e coloca numa lista"
      ],
      "metadata": {
        "id": "YIkFgV2Q8GX_"
      }
    },
    {
      "cell_type": "code",
      "source": [
        "if response.status_code == 200:\n",
        "    print(\"Conexão bem-sucedida!\")\n",
        "    soup = BeautifulSoup(response.text, 'html.parser')\n",
        "\n",
        "    produtos = soup.find_all('div', class_='produto')\n",
        "\n",
        "    lista = []\n",
        "    for produto in produtos:\n",
        "        nome = produto.find('h2').text\n",
        "        preco = produto.find('p').text\n",
        "        descricao = produto.find_all('p')[1].text\n",
        "\n",
        "        lista.append(nome)\n",
        "        lista.append(preco)\n",
        "        lista.append(descricao)\n",
        "\n",
        "        print(\"Nome:\", nome)\n",
        "        print(\"Preço:\", preco)\n",
        "        print(\"Descrição:\", descricao)\n",
        "        print(\"-\" * 20)\n",
        "else:\n",
        "    print(\"Erro ao acessar o site.\")\n",
        "\n",
        "lista"
      ],
      "metadata": {
        "colab": {
          "base_uri": "https://localhost:8080/"
        },
        "id": "k1xwscQ1__ac",
        "outputId": "e459e3c2-96d8-46fd-917d-68c279825e58"
      },
      "execution_count": 20,
      "outputs": [
        {
          "output_type": "stream",
          "name": "stdout",
          "text": [
            "Conexão bem-sucedida!\n",
            "Nome: Produto 1\n",
            "Preço: Preço: R$20,00\n",
            "Descrição: Descrição: Um produto de alta qualidade.\n",
            "--------------------\n",
            "Nome: Produto 2\n",
            "Preço: Preço: R$45,00\n",
            "Descrição: Descrição: Perfeito para o uso diário.\n",
            "--------------------\n"
          ]
        },
        {
          "output_type": "execute_result",
          "data": {
            "text/plain": [
              "['Produto 1',\n",
              " 'Preço: R$20,00',\n",
              " 'Descrição: Um produto de alta qualidade.',\n",
              " 'Produto 2',\n",
              " 'Preço: R$45,00',\n",
              " 'Descrição: Perfeito para o uso diário.']"
            ]
          },
          "metadata": {},
          "execution_count": 20
        }
      ]
    }
  ]
}